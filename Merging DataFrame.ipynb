{
 "cells": [
  {
   "cell_type": "code",
   "execution_count": 1,
   "metadata": {},
   "outputs": [],
   "source": [
    "import pandas as pd"
   ]
  },
  {
   "cell_type": "code",
   "execution_count": 3,
   "metadata": {},
   "outputs": [],
   "source": [
    "df1 = pd.DataFrame({\"HPI\": [80,90,70,60],\"Int_rate\":[2,1,2,3],\"BD_GDP\":[50,45,45,67]},\n",
    "                  index = [2001,2002,2003,2004])"
   ]
  },
  {
   "cell_type": "code",
   "execution_count": 4,
   "metadata": {},
   "outputs": [],
   "source": [
    "df2 = pd.DataFrame({\"HPI\": [80,90,70,60],\"Int_rate\":[2,1,2,3],\"BD_GDP\":[50,45,45,67]},\n",
    "                  index = [2005,2006,2007,2008])"
   ]
  },
  {
   "cell_type": "code",
   "execution_count": 11,
   "metadata": {},
   "outputs": [],
   "source": [
    "merge = pd.merge(df1,df2, on = \"HPI\")"
   ]
  },
  {
   "cell_type": "code",
   "execution_count": 12,
   "metadata": {},
   "outputs": [
    {
     "name": "stdout",
     "output_type": "stream",
     "text": [
      "   BD_GDP_x  HPI  Int_rate_x  BD_GDP_y  Int_rate_y\n",
      "0        50   80           2        50           2\n",
      "1        45   90           1        45           1\n",
      "2        45   70           2        45           2\n",
      "3        67   60           3        67           3\n"
     ]
    }
   ],
   "source": [
    "print(merge)"
   ]
  },
  {
   "cell_type": "code",
   "execution_count": null,
   "metadata": {},
   "outputs": [],
   "source": []
  }
 ],
 "metadata": {
  "kernelspec": {
   "display_name": "Python 3",
   "language": "python",
   "name": "python3"
  },
  "language_info": {
   "codemirror_mode": {
    "name": "ipython",
    "version": 3
   },
   "file_extension": ".py",
   "mimetype": "text/x-python",
   "name": "python",
   "nbconvert_exporter": "python",
   "pygments_lexer": "ipython3",
   "version": "3.6.4"
  }
 },
 "nbformat": 4,
 "nbformat_minor": 2
}
